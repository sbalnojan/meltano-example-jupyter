{
 "cells": [
  {
   "cell_type": "code",
   "execution_count": null,
   "id": "4c18301d-0a1a-4b3d-86a6-ea2871bc5956",
   "metadata": {
    "tags": [
     "parameters"
    ]
   },
   "outputs": [],
   "source": [
    "price_1 = 900"
   ]
  },
  {
   "cell_type": "code",
   "execution_count": 1,
   "id": "6875f0de-3f1d-4dbf-a509-65eb74e5c0bb",
   "metadata": {},
   "outputs": [],
   "source": [
    "from sqlalchemy import create_engine\n",
    "import os"
   ]
  },
  {
   "cell_type": "code",
   "execution_count": 2,
   "id": "85a7ef91-667d-4768-bed1-9356ad0583e1",
   "metadata": {},
   "outputs": [
    {
     "name": "stdout",
     "output_type": "stream",
     "text": [
      "postgres\n"
     ]
    }
   ],
   "source": [
    "PG_HOST = os.getenv(\"PG_HOST\", default=None)\n",
    "PG_PORT = os.getenv(\"PG_PORT\", default=None)\n",
    "PG_DB = os.getenv(\"PG_DB\", default=None)\n",
    "PG_USER = os.getenv(\"PG_USER\", default=None)\n",
    "PG_PWD = os.getenv(\"PG_PWD\", default=None)\n",
    "\n",
    "print(PG_HOST)"
   ]
  },
  {
   "cell_type": "code",
   "execution_count": 3,
   "id": "67bb607f-a819-4b00-8a91-9dc2a98adacb",
   "metadata": {},
   "outputs": [],
   "source": [
    "engine = create_engine(f'postgresql://{PG_USER}:{PG_PWD}@{PG_HOST}:{PG_PORT}/{PG_DB}')"
   ]
  },
  {
   "cell_type": "code",
   "execution_count": 4,
   "id": "47a11e96-63aa-443e-9f7a-41d8331af7fc",
   "metadata": {},
   "outputs": [],
   "source": [
    "import pandas as pd"
   ]
  },
  {
   "cell_type": "code",
   "execution_count": 5,
   "id": "5d6b95e3-a748-4705-bd9d-3c42372b360e",
   "metadata": {},
   "outputs": [
    {
     "name": "stdout",
     "output_type": "stream",
     "text": [
      "  product_name  price\n",
      "0     Computer    900\n",
      "1       Tablet    300\n",
      "2      Monitor    450\n",
      "3      Printer    150\n"
     ]
    }
   ],
   "source": [
    "data = {'product_name': ['Computer','Tablet','Monitor','Printer'],\n",
    "        'price': [price_1,300,450,150]\n",
    "        }\n",
    "\n",
    "df = pd.DataFrame(data, columns= ['product_name','price'])\n",
    "print (df)"
   ]
  },
  {
   "cell_type": "code",
   "execution_count": 8,
   "id": "706f8063-ad90-45c9-aca0-45e9906466c9",
   "metadata": {},
   "outputs": [],
   "source": [
    "with engine.begin() as connection:\n",
    "    df.to_sql('products', con=connection, if_exists='append')\n",
    "    "
   ]
  },
  {
   "cell_type": "code",
   "execution_count": 9,
   "id": "8c7bfca9-a3ce-4feb-9779-9d772f000400",
   "metadata": {},
   "outputs": [
    {
     "data": {
      "text/plain": [
       "[(0, 'Computer', 900),\n",
       " (1, 'Tablet', 300),\n",
       " (2, 'Monitor', 450),\n",
       " (3, 'Printer', 150)]"
      ]
     },
     "execution_count": 9,
     "metadata": {},
     "output_type": "execute_result"
    }
   ],
   "source": [
    "engine.execute(\"SELECT * FROM products\").fetchall()"
   ]
  },
  {
   "cell_type": "code",
   "execution_count": 11,
   "id": "6ab2d0eb-35ba-4543-8a9f-6f785bb69179",
   "metadata": {},
   "outputs": [],
   "source": [
    "df_new = pd.read_sql_table('products', engine)  "
   ]
  },
  {
   "cell_type": "code",
   "execution_count": 12,
   "id": "8a35462a-00e1-4faf-882d-0ed662f583f7",
   "metadata": {},
   "outputs": [
    {
     "name": "stdout",
     "output_type": "stream",
     "text": [
      "   index product_name  price\n",
      "0      0     Computer    900\n",
      "1      1       Tablet    300\n",
      "2      2      Monitor    450\n",
      "3      3      Printer    150\n"
     ]
    }
   ],
   "source": [
    "print(df_new)"
   ]
  }
 ],
 "metadata": {
  "kernelspec": {
   "display_name": "Python 3 (ipykernel)",
   "language": "python",
   "name": "python3"
  },
  "language_info": {
   "codemirror_mode": {
    "name": "ipython",
    "version": 3
   },
   "file_extension": ".py",
   "mimetype": "text/x-python",
   "name": "python",
   "nbconvert_exporter": "python",
   "pygments_lexer": "ipython3",
   "version": "3.10.6"
  }
 },
 "nbformat": 4,
 "nbformat_minor": 5
}
