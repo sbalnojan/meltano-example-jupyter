{
 "cells": [
  {
   "cell_type": "code",
   "execution_count": 1,
   "id": "4c18301d-0a1a-4b3d-86a6-ea2871bc5956",
   "metadata": {
    "execution": {
     "iopub.execute_input": "2022-09-08T11:29:51.773412Z",
     "iopub.status.busy": "2022-09-08T11:29:51.771241Z",
     "iopub.status.idle": "2022-09-08T11:29:51.806300Z",
     "shell.execute_reply": "2022-09-08T11:29:51.803883Z"
    },
    "tags": [
     "parameters"
    ]
   },
   "outputs": [],
   "source": [
    "price_1 = 900"
   ]
  },
  {
   "cell_type": "code",
   "execution_count": 2,
   "id": "6875f0de-3f1d-4dbf-a509-65eb74e5c0bb",
   "metadata": {
    "execution": {
     "iopub.execute_input": "2022-09-08T11:29:51.819384Z",
     "iopub.status.busy": "2022-09-08T11:29:51.818440Z",
     "iopub.status.idle": "2022-09-08T11:29:52.392090Z",
     "shell.execute_reply": "2022-09-08T11:29:52.389509Z"
    }
   },
   "outputs": [],
   "source": [
    "from sqlalchemy import create_engine\n",
    "import os"
   ]
  },
  {
   "cell_type": "code",
   "execution_count": 3,
   "id": "85a7ef91-667d-4768-bed1-9356ad0583e1",
   "metadata": {
    "execution": {
     "iopub.execute_input": "2022-09-08T11:29:52.404948Z",
     "iopub.status.busy": "2022-09-08T11:29:52.403797Z",
     "iopub.status.idle": "2022-09-08T11:29:52.424206Z",
     "shell.execute_reply": "2022-09-08T11:29:52.420953Z"
    }
   },
   "outputs": [
    {
     "name": "stdout",
     "output_type": "stream",
     "text": [
      "postgres\n"
     ]
    }
   ],
   "source": [
    "PG_HOST = os.getenv(\"PG_HOST\", default=None)\n",
    "PG_PORT = os.getenv(\"PG_PORT\", default=None)\n",
    "PG_DB = os.getenv(\"PG_DB\", default=None)\n",
    "PG_USER = os.getenv(\"PG_USER\", default=None)\n",
    "PG_PWD = os.getenv(\"PG_PWD\", default=None)\n",
    "\n",
    "print(PG_HOST)"
   ]
  },
  {
   "cell_type": "code",
   "execution_count": 4,
   "id": "67bb607f-a819-4b00-8a91-9dc2a98adacb",
   "metadata": {
    "execution": {
     "iopub.execute_input": "2022-09-08T11:29:52.439820Z",
     "iopub.status.busy": "2022-09-08T11:29:52.438055Z",
     "iopub.status.idle": "2022-09-08T11:29:52.755090Z",
     "shell.execute_reply": "2022-09-08T11:29:52.752629Z"
    }
   },
   "outputs": [],
   "source": [
    "engine = create_engine(f'postgresql://{PG_USER}:{PG_PWD}@{PG_HOST}:{PG_PORT}/{PG_DB}')"
   ]
  },
  {
   "cell_type": "code",
   "execution_count": 5,
   "id": "47a11e96-63aa-443e-9f7a-41d8331af7fc",
   "metadata": {
    "execution": {
     "iopub.execute_input": "2022-09-08T11:29:52.767453Z",
     "iopub.status.busy": "2022-09-08T11:29:52.766481Z",
     "iopub.status.idle": "2022-09-08T11:29:55.081730Z",
     "shell.execute_reply": "2022-09-08T11:29:55.078749Z"
    }
   },
   "outputs": [],
   "source": [
    "import pandas as pd"
   ]
  },
  {
   "cell_type": "code",
   "execution_count": 6,
   "id": "5d6b95e3-a748-4705-bd9d-3c42372b360e",
   "metadata": {
    "execution": {
     "iopub.execute_input": "2022-09-08T11:29:55.095585Z",
     "iopub.status.busy": "2022-09-08T11:29:55.094345Z",
     "iopub.status.idle": "2022-09-08T11:29:55.146345Z",
     "shell.execute_reply": "2022-09-08T11:29:55.143543Z"
    }
   },
   "outputs": [
    {
     "name": "stdout",
     "output_type": "stream",
     "text": [
      "  product_name  price\n",
      "0     Computer    900\n",
      "1       Tablet    300\n",
      "2      Monitor    450\n",
      "3      Printer    150\n"
     ]
    }
   ],
   "source": [
    "data = {'product_name': ['Computer','Tablet','Monitor','Printer'],\n",
    "        'price': [price_1,300,450,150]\n",
    "        }\n",
    "\n",
    "df = pd.DataFrame(data, columns= ['product_name','price'])\n",
    "print (df)"
   ]
  },
  {
   "cell_type": "code",
   "execution_count": 7,
   "id": "706f8063-ad90-45c9-aca0-45e9906466c9",
   "metadata": {
    "execution": {
     "iopub.execute_input": "2022-09-08T11:29:55.158381Z",
     "iopub.status.busy": "2022-09-08T11:29:55.157306Z",
     "iopub.status.idle": "2022-09-08T11:29:55.228361Z",
     "shell.execute_reply": "2022-09-08T11:29:55.225598Z"
    }
   },
   "outputs": [],
   "source": [
    "with engine.begin() as connection:\n",
    "    df.to_sql('products', con=connection, if_exists='append')\n",
    "    "
   ]
  },
  {
   "cell_type": "code",
   "execution_count": 8,
   "id": "8c7bfca9-a3ce-4feb-9779-9d772f000400",
   "metadata": {
    "execution": {
     "iopub.execute_input": "2022-09-08T11:29:55.241655Z",
     "iopub.status.busy": "2022-09-08T11:29:55.240019Z",
     "iopub.status.idle": "2022-09-08T11:29:55.281989Z",
     "shell.execute_reply": "2022-09-08T11:29:55.279368Z"
    }
   },
   "outputs": [
    {
     "data": {
      "text/plain": [
       "[(0, 'Computer', 900),\n",
       " (1, 'Tablet', 300),\n",
       " (2, 'Monitor', 450),\n",
       " (3, 'Printer', 150),\n",
       " (0, 'Computer', 1000),\n",
       " (1, 'Tablet', 300),\n",
       " (2, 'Monitor', 450),\n",
       " (3, 'Printer', 150),\n",
       " (0, 'Computer', 1000),\n",
       " (1, 'Tablet', 300),\n",
       " (2, 'Monitor', 450),\n",
       " (3, 'Printer', 150),\n",
       " (0, 'Computer', 900),\n",
       " (1, 'Tablet', 300),\n",
       " (2, 'Monitor', 450),\n",
       " (3, 'Printer', 150)]"
      ]
     },
     "execution_count": 8,
     "metadata": {},
     "output_type": "execute_result"
    }
   ],
   "source": [
    "engine.execute(\"SELECT * FROM products\").fetchall()"
   ]
  },
  {
   "cell_type": "code",
   "execution_count": 9,
   "id": "6ab2d0eb-35ba-4543-8a9f-6f785bb69179",
   "metadata": {
    "execution": {
     "iopub.execute_input": "2022-09-08T11:29:55.293049Z",
     "iopub.status.busy": "2022-09-08T11:29:55.292119Z",
     "iopub.status.idle": "2022-09-08T11:29:55.355032Z",
     "shell.execute_reply": "2022-09-08T11:29:55.352538Z"
    }
   },
   "outputs": [],
   "source": [
    "df_new = pd.read_sql_table('products', engine)  "
   ]
  },
  {
   "cell_type": "code",
   "execution_count": 10,
   "id": "8a35462a-00e1-4faf-882d-0ed662f583f7",
   "metadata": {
    "execution": {
     "iopub.execute_input": "2022-09-08T11:29:55.367232Z",
     "iopub.status.busy": "2022-09-08T11:29:55.366264Z",
     "iopub.status.idle": "2022-09-08T11:29:55.385867Z",
     "shell.execute_reply": "2022-09-08T11:29:55.383275Z"
    }
   },
   "outputs": [
    {
     "name": "stdout",
     "output_type": "stream",
     "text": [
      "    index product_name  price\n",
      "0       0     Computer    900\n",
      "1       1       Tablet    300\n",
      "2       2      Monitor    450\n",
      "3       3      Printer    150\n",
      "4       0     Computer   1000\n",
      "5       1       Tablet    300\n",
      "6       2      Monitor    450\n",
      "7       3      Printer    150\n",
      "8       0     Computer   1000\n",
      "9       1       Tablet    300\n",
      "10      2      Monitor    450\n",
      "11      3      Printer    150\n",
      "12      0     Computer    900\n",
      "13      1       Tablet    300\n",
      "14      2      Monitor    450\n",
      "15      3      Printer    150\n"
     ]
    }
   ],
   "source": [
    "print(df_new)"
   ]
  }
 ],
 "metadata": {
  "kernelspec": {
   "display_name": "Python 3 (ipykernel)",
   "language": "python",
   "name": "python3"
  },
  "language_info": {
   "codemirror_mode": {
    "name": "ipython",
    "version": 3
   },
   "file_extension": ".py",
   "mimetype": "text/x-python",
   "name": "python",
   "nbconvert_exporter": "python",
   "pygments_lexer": "ipython3",
   "version": "3.10.6"
  }
 },
 "nbformat": 4,
 "nbformat_minor": 5
}
