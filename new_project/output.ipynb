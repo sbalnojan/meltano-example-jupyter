{
 "cells": [
  {
   "cell_type": "code",
   "execution_count": 1,
   "id": "4c18301d-0a1a-4b3d-86a6-ea2871bc5956",
   "metadata": {
    "execution": {
     "iopub.execute_input": "2022-09-08T11:28:26.916851Z",
     "iopub.status.busy": "2022-09-08T11:28:26.915303Z",
     "iopub.status.idle": "2022-09-08T11:28:26.950895Z",
     "shell.execute_reply": "2022-09-08T11:28:26.948468Z"
    },
    "papermill": {
     "duration": 0.076452,
     "end_time": "2022-09-08T11:28:26.959227",
     "exception": false,
     "start_time": "2022-09-08T11:28:26.882775",
     "status": "completed"
    },
    "tags": [
     "parameters"
    ]
   },
   "outputs": [],
   "source": [
    "price_1 = 900"
   ]
  },
  {
   "cell_type": "code",
   "execution_count": 2,
   "id": "bf529520",
   "metadata": {
    "execution": {
     "iopub.execute_input": "2022-09-08T11:28:26.999688Z",
     "iopub.status.busy": "2022-09-08T11:28:26.997243Z",
     "iopub.status.idle": "2022-09-08T11:28:27.008848Z",
     "shell.execute_reply": "2022-09-08T11:28:27.006107Z"
    },
    "papermill": {
     "duration": 0.037148,
     "end_time": "2022-09-08T11:28:27.015125",
     "exception": false,
     "start_time": "2022-09-08T11:28:26.977977",
     "status": "completed"
    },
    "tags": [
     "injected-parameters"
    ]
   },
   "outputs": [],
   "source": [
    "# Parameters\n",
    "price_1 = 1000\n"
   ]
  },
  {
   "cell_type": "code",
   "execution_count": 3,
   "id": "6875f0de-3f1d-4dbf-a509-65eb74e5c0bb",
   "metadata": {
    "execution": {
     "iopub.execute_input": "2022-09-08T11:28:27.050428Z",
     "iopub.status.busy": "2022-09-08T11:28:27.048573Z",
     "iopub.status.idle": "2022-09-08T11:28:27.692121Z",
     "shell.execute_reply": "2022-09-08T11:28:27.689371Z"
    },
    "papermill": {
     "duration": 0.669446,
     "end_time": "2022-09-08T11:28:27.699396",
     "exception": false,
     "start_time": "2022-09-08T11:28:27.029950",
     "status": "completed"
    },
    "tags": []
   },
   "outputs": [],
   "source": [
    "from sqlalchemy import create_engine\n",
    "import os"
   ]
  },
  {
   "cell_type": "code",
   "execution_count": 4,
   "id": "85a7ef91-667d-4768-bed1-9356ad0583e1",
   "metadata": {
    "execution": {
     "iopub.execute_input": "2022-09-08T11:28:27.740608Z",
     "iopub.status.busy": "2022-09-08T11:28:27.739150Z",
     "iopub.status.idle": "2022-09-08T11:28:27.761417Z",
     "shell.execute_reply": "2022-09-08T11:28:27.758145Z"
    },
    "papermill": {
     "duration": 0.052175,
     "end_time": "2022-09-08T11:28:27.768940",
     "exception": false,
     "start_time": "2022-09-08T11:28:27.716765",
     "status": "completed"
    },
    "tags": []
   },
   "outputs": [
    {
     "name": "stdout",
     "output_type": "stream",
     "text": [
      "postgres\n"
     ]
    }
   ],
   "source": [
    "PG_HOST = os.getenv(\"PG_HOST\", default=None)\n",
    "PG_PORT = os.getenv(\"PG_PORT\", default=None)\n",
    "PG_DB = os.getenv(\"PG_DB\", default=None)\n",
    "PG_USER = os.getenv(\"PG_USER\", default=None)\n",
    "PG_PWD = os.getenv(\"PG_PWD\", default=None)\n",
    "\n",
    "print(PG_HOST)"
   ]
  },
  {
   "cell_type": "code",
   "execution_count": 5,
   "id": "67bb607f-a819-4b00-8a91-9dc2a98adacb",
   "metadata": {
    "execution": {
     "iopub.execute_input": "2022-09-08T11:28:27.809983Z",
     "iopub.status.busy": "2022-09-08T11:28:27.807398Z",
     "iopub.status.idle": "2022-09-08T11:28:28.172079Z",
     "shell.execute_reply": "2022-09-08T11:28:28.169407Z"
    },
    "papermill": {
     "duration": 0.393467,
     "end_time": "2022-09-08T11:28:28.179406",
     "exception": false,
     "start_time": "2022-09-08T11:28:27.785939",
     "status": "completed"
    },
    "tags": []
   },
   "outputs": [],
   "source": [
    "engine = create_engine(f'postgresql://{PG_USER}:{PG_PWD}@{PG_HOST}:{PG_PORT}/{PG_DB}')"
   ]
  },
  {
   "cell_type": "code",
   "execution_count": 6,
   "id": "47a11e96-63aa-443e-9f7a-41d8331af7fc",
   "metadata": {
    "execution": {
     "iopub.execute_input": "2022-09-08T11:28:28.217275Z",
     "iopub.status.busy": "2022-09-08T11:28:28.215363Z",
     "iopub.status.idle": "2022-09-08T11:28:30.952070Z",
     "shell.execute_reply": "2022-09-08T11:28:30.949173Z"
    },
    "papermill": {
     "duration": 2.764043,
     "end_time": "2022-09-08T11:28:30.959244",
     "exception": false,
     "start_time": "2022-09-08T11:28:28.195201",
     "status": "completed"
    },
    "tags": []
   },
   "outputs": [],
   "source": [
    "import pandas as pd"
   ]
  },
  {
   "cell_type": "code",
   "execution_count": 7,
   "id": "5d6b95e3-a748-4705-bd9d-3c42372b360e",
   "metadata": {
    "execution": {
     "iopub.execute_input": "2022-09-08T11:28:30.999211Z",
     "iopub.status.busy": "2022-09-08T11:28:30.997115Z",
     "iopub.status.idle": "2022-09-08T11:28:31.049431Z",
     "shell.execute_reply": "2022-09-08T11:28:31.046680Z"
    },
    "papermill": {
     "duration": 0.080387,
     "end_time": "2022-09-08T11:28:31.055824",
     "exception": false,
     "start_time": "2022-09-08T11:28:30.975437",
     "status": "completed"
    },
    "tags": []
   },
   "outputs": [
    {
     "name": "stdout",
     "output_type": "stream",
     "text": [
      "  product_name  price\n",
      "0     Computer   1000\n",
      "1       Tablet    300\n",
      "2      Monitor    450\n",
      "3      Printer    150\n"
     ]
    }
   ],
   "source": [
    "data = {'product_name': ['Computer','Tablet','Monitor','Printer'],\n",
    "        'price': [price_1,300,450,150]\n",
    "        }\n",
    "\n",
    "df = pd.DataFrame(data, columns= ['product_name','price'])\n",
    "print (df)"
   ]
  },
  {
   "cell_type": "code",
   "execution_count": 8,
   "id": "706f8063-ad90-45c9-aca0-45e9906466c9",
   "metadata": {
    "execution": {
     "iopub.execute_input": "2022-09-08T11:28:31.092317Z",
     "iopub.status.busy": "2022-09-08T11:28:31.091085Z",
     "iopub.status.idle": "2022-09-08T11:28:31.163569Z",
     "shell.execute_reply": "2022-09-08T11:28:31.160716Z"
    },
    "papermill": {
     "duration": 0.098978,
     "end_time": "2022-09-08T11:28:31.170572",
     "exception": false,
     "start_time": "2022-09-08T11:28:31.071594",
     "status": "completed"
    },
    "tags": []
   },
   "outputs": [],
   "source": [
    "with engine.begin() as connection:\n",
    "    df.to_sql('products', con=connection, if_exists='append')\n",
    "    "
   ]
  },
  {
   "cell_type": "code",
   "execution_count": 9,
   "id": "8c7bfca9-a3ce-4feb-9779-9d772f000400",
   "metadata": {
    "execution": {
     "iopub.execute_input": "2022-09-08T11:28:31.211003Z",
     "iopub.status.busy": "2022-09-08T11:28:31.208919Z",
     "iopub.status.idle": "2022-09-08T11:28:31.251040Z",
     "shell.execute_reply": "2022-09-08T11:28:31.248096Z"
    },
    "papermill": {
     "duration": 0.069491,
     "end_time": "2022-09-08T11:28:31.257346",
     "exception": false,
     "start_time": "2022-09-08T11:28:31.187855",
     "status": "completed"
    },
    "tags": []
   },
   "outputs": [
    {
     "data": {
      "text/plain": [
       "[(0, 'Computer', 900),\n",
       " (1, 'Tablet', 300),\n",
       " (2, 'Monitor', 450),\n",
       " (3, 'Printer', 150),\n",
       " (0, 'Computer', 1000),\n",
       " (1, 'Tablet', 300),\n",
       " (2, 'Monitor', 450),\n",
       " (3, 'Printer', 150),\n",
       " (0, 'Computer', 1000),\n",
       " (1, 'Tablet', 300),\n",
       " (2, 'Monitor', 450),\n",
       " (3, 'Printer', 150)]"
      ]
     },
     "execution_count": 9,
     "metadata": {},
     "output_type": "execute_result"
    }
   ],
   "source": [
    "engine.execute(\"SELECT * FROM products\").fetchall()"
   ]
  },
  {
   "cell_type": "code",
   "execution_count": 10,
   "id": "6ab2d0eb-35ba-4543-8a9f-6f785bb69179",
   "metadata": {
    "execution": {
     "iopub.execute_input": "2022-09-08T11:28:31.301564Z",
     "iopub.status.busy": "2022-09-08T11:28:31.298838Z",
     "iopub.status.idle": "2022-09-08T11:28:31.364967Z",
     "shell.execute_reply": "2022-09-08T11:28:31.362402Z"
    },
    "papermill": {
     "duration": 0.096826,
     "end_time": "2022-09-08T11:28:31.371821",
     "exception": false,
     "start_time": "2022-09-08T11:28:31.274995",
     "status": "completed"
    },
    "tags": []
   },
   "outputs": [],
   "source": [
    "df_new = pd.read_sql_table('products', engine)  "
   ]
  },
  {
   "cell_type": "code",
   "execution_count": 11,
   "id": "8a35462a-00e1-4faf-882d-0ed662f583f7",
   "metadata": {
    "execution": {
     "iopub.execute_input": "2022-09-08T11:28:31.413927Z",
     "iopub.status.busy": "2022-09-08T11:28:31.412653Z",
     "iopub.status.idle": "2022-09-08T11:28:31.431845Z",
     "shell.execute_reply": "2022-09-08T11:28:31.429080Z"
    },
    "papermill": {
     "duration": 0.047777,
     "end_time": "2022-09-08T11:28:31.438842",
     "exception": false,
     "start_time": "2022-09-08T11:28:31.391065",
     "status": "completed"
    },
    "tags": []
   },
   "outputs": [
    {
     "name": "stdout",
     "output_type": "stream",
     "text": [
      "    index product_name  price\n",
      "0       0     Computer    900\n",
      "1       1       Tablet    300\n",
      "2       2      Monitor    450\n",
      "3       3      Printer    150\n",
      "4       0     Computer   1000\n",
      "5       1       Tablet    300\n",
      "6       2      Monitor    450\n",
      "7       3      Printer    150\n",
      "8       0     Computer   1000\n",
      "9       1       Tablet    300\n",
      "10      2      Monitor    450\n",
      "11      3      Printer    150\n"
     ]
    }
   ],
   "source": [
    "print(df_new)"
   ]
  }
 ],
 "metadata": {
  "kernelspec": {
   "display_name": "Python 3 (ipykernel)",
   "language": "python",
   "name": "python3"
  },
  "language_info": {
   "codemirror_mode": {
    "name": "ipython",
    "version": 3
   },
   "file_extension": ".py",
   "mimetype": "text/x-python",
   "name": "python",
   "nbconvert_exporter": "python",
   "pygments_lexer": "ipython3",
   "version": "3.10.6"
  },
  "papermill": {
   "default_parameters": {},
   "duration": 14.683713,
   "end_time": "2022-09-08T11:28:31.900150",
   "environment_variables": {},
   "exception": null,
   "input_path": "notebook/sql_magic.ipynb",
   "output_path": "output.ipynb",
   "parameters": {
    "price_1": 1000
   },
   "start_time": "2022-09-08T11:28:17.216437",
   "version": "2.4.0"
  }
 },
 "nbformat": 4,
 "nbformat_minor": 5
}